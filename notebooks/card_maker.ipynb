{
 "cells": [
  {
   "cell_type": "code",
   "execution_count": null,
   "metadata": {},
   "outputs": [],
   "source": [
    "%load_ext autoreload\n",
    "%autoreload 2"
   ]
  },
  {
   "cell_type": "code",
   "execution_count": null,
   "metadata": {},
   "outputs": [],
   "source": [
    "from cardmaker import render_all_cards\n",
    "\n",
    "render_all_cards()"
   ]
  }
 ],
 "metadata": {
  "interpreter": {
   "hash": "d1db1794e4dfa16f28586e82c311aa49a5ceb716f0758b68e47c5651f98a37b8"
  },
  "kernelspec": {
   "display_name": "Python 3.9.0 ('cliffhanger')",
   "language": "python",
   "name": "python3"
  },
  "language_info": {
   "codemirror_mode": {
    "name": "ipython",
    "version": 3
   },
   "file_extension": ".py",
   "mimetype": "text/x-python",
   "name": "python",
   "nbconvert_exporter": "python",
   "pygments_lexer": "ipython3",
   "version": "3.9.0"
  },
  "orig_nbformat": 4
 },
 "nbformat": 4,
 "nbformat_minor": 2
}
