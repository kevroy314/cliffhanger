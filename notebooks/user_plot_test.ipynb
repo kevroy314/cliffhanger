{
 "cells": [
  {
   "cell_type": "code",
   "execution_count": 4,
   "id": "6edf7837",
   "metadata": {},
   "outputs": [],
   "source": [
    "import plotly.graph_objects as go\n",
    "import numpy as np\n",
    "import plotly.express as px\n",
    "from datetime import datetime\n",
    "import pandas as pd\n",
    "\n",
    "def make_scatter(x, y, cats, n_points=1000):\n",
    "    cat_lut = {\n",
    "        1: \"Nothing\",\n",
    "        2: \"Beer\",\n",
    "        3: \"Wine\",\n",
    "        4: \"Liquor (Drinks)\",\n",
    "        5: \"Liquor (Shots)\"\n",
    "    }\n",
    "    color_lut = {\n",
    "        \"Nothing\": \"#0F0E0E\",\n",
    "        \"Beer\": \"#f28e1c\",\n",
    "        \"Wine\": \"#BA091E\",\n",
    "        \"Liquor (Drinks)\": \"#ADD8E6\",\n",
    "        \"Liquor (Shots)\": \"#2364AA\"\n",
    "    }\n",
    "\n",
    "    xx, yy, cc = [], [], []\n",
    "    for idx, ((x0, x1), (y0, y1)) in enumerate(zip(zip(x[:-1], x[1:]), zip(y[:-1], y[1:]))):\n",
    "        points = int(n_points*((x1 - x0)/(max(x) - min(x))))\n",
    "        xx.extend(pd.to_datetime(np.linspace(pd.Timestamp(x0).value, pd.Timestamp(x1).value, points)))\n",
    "        yy.extend(np.linspace(y0, y1, points))\n",
    "        colors = [val for val in list(cats[idx]) for _ in range(int(points/len(cats[idx])))]\n",
    "        colors = colors + [cats[idx][-1]]*(points - len(colors))\n",
    "        cc.extend(colors)\n",
    "        \n",
    "    cc = [cat_lut[e] if e in cat_lut else e for e in cc]\n",
    "\n",
    "    fig = px.scatter(x=xx, y=yy, color=cc,\n",
    "                    color_discrete_map=color_lut)\n",
    "    return fig"
   ]
  }
 ],
 "metadata": {
  "kernelspec": {
   "display_name": "Python 3 (ipykernel)",
   "language": "python",
   "name": "python3"
  },
  "language_info": {
   "codemirror_mode": {
    "name": "ipython",
    "version": 3
   },
   "file_extension": ".py",
   "mimetype": "text/x-python",
   "name": "python",
   "nbconvert_exporter": "python",
   "pygments_lexer": "ipython3",
   "version": "3.9.0"
  }
 },
 "nbformat": 4,
 "nbformat_minor": 5
}
