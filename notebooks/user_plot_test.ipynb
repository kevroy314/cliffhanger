{
 "cells": [
  {
   "cell_type": "code",
   "execution_count": 4,
   "id": "6edf7837",
   "metadata": {},
   "outputs": [],
   "source": [
    "import plotly.graph_objects as go\n",
    "import numpy as np\n",
    "import plotly.express as px\n",
    "from datetime import datetime\n",
    "import pandas as pd\n",
    "\n",
    "def make_scatter(x, y, cats, n_points=1000):\n",
    "    cat_lut = {\n",
    "        1: \"Nothing\",\n",
    "        2: \"Beer\",\n",
    "        3: \"Wine\",\n",
    "        4: \"Liquor (Drinks)\",\n",
    "        5: \"Liquor (Shots)\"\n",
    "    }\n",
    "    color_lut = {\n",
    "        \"Nothing\": \"#0F0E0E\",\n",
    "        \"Beer\": \"#f28e1c\",\n",
    "        \"Wine\": \"#BA091E\",\n",
    "        \"Liquor (Drinks)\": \"#ADD8E6\",\n",
    "        \"Liquor (Shots)\": \"#2364AA\"\n",
    "    }\n",
    "\n",
    "    xx, yy, cc = [], [], []\n",
    "    for idx, ((x0, x1), (y0, y1)) in enumerate(zip(zip(x[:-1], x[1:]), zip(y[:-1], y[1:]))):\n",
    "        points = int(n_points*((x1 - x0)/(max(x) - min(x))))\n",
    "        xx.extend(pd.to_datetime(np.linspace(pd.Timestamp(x0).value, pd.Timestamp(x1).value, points)))\n",
    "        yy.extend(np.linspace(y0, y1, points))\n",
    "        colors = [val for val in list(cats[idx]) for _ in range(int(points/len(cats[idx])))]\n",
    "        colors = colors + [cats[idx][-1]]*(points - len(colors))\n",
    "        cc.extend(colors)\n",
    "        \n",
    "    cc = [cat_lut[e] if e in cat_lut else e for e in cc]\n",
    "\n",
    "    fig = px.scatter(x=xx, y=yy, color=cc,\n",
    "                    color_discrete_map=color_lut)\n",
    "    return fig"
   ]
  },
  {
   "cell_type": "code",
   "execution_count": 4,
   "id": "2768f809",
   "metadata": {},
   "outputs": [],
   "source": [
    "import pandas as pd\n",
    "df = pd.read_csv(\"jkr5famt_04-10-2022,_12-58-14PM.csv\").drop(columns=\"Unnamed: 0\")"
   ]
  },
  {
   "cell_type": "code",
   "execution_count": 16,
   "id": "0a798ad4",
   "metadata": {},
   "outputs": [
    {
     "data": {
      "text/plain": [
       "dt\n",
       "2022-04-10 12:55:10.637790    0.000\n",
       "2022-04-10 12:55:44.280668    0.007\n",
       "2022-04-10 12:56:37.997055    0.040\n",
       "2022-04-10 12:56:46.135887    0.105\n",
       "2022-04-10 12:55:15.213907    0.000\n",
       "2022-04-10 12:55:49.848158    0.024\n",
       "2022-04-10 12:56:27.892984    0.047\n",
       "2022-04-10 12:56:53.440692    0.070\n",
       "2022-04-10 12:57:00.990738    0.047\n",
       "2022-04-10 12:55:20.289799    0.000\n",
       "2022-04-10 12:55:59.242770    0.032\n",
       "2022-04-10 12:56:21.109767    0.051\n",
       "2022-04-10 12:57:07.506186    0.076\n",
       "2022-04-10 12:55:01.969087    0.000\n",
       "2022-04-10 12:55:37.111569    0.014\n",
       "2022-04-10 12:56:08.830370    0.042\n",
       "2022-04-10 12:57:16.581552    0.074\n",
       "dtype: float64"
      ]
     },
     "execution_count": 16,
     "metadata": {},
     "output_type": "execute_result"
    }
   ],
   "source": [
    "from functools import reduce\n",
    "import numpy as np\n",
    "user_dfs = df.groupby('user')\n",
    "mdf = pd.DataFrame()\n",
    "mdf['dt'] = df['dt'].unique()\n",
    "mdf = mdf.set_index('dt')\n",
    "for username, udf in user_dfs:\n",
    "    udf = udf.set_index(\"dt\")\n",
    "    mdf[username+'_bac'] = udf['bac']\n",
    "mdf.fillna(method=\"ffill\").fillna(method=\"bfill\")\n",
    "mdf.mean(axis=1)"
   ]
  },
  {
   "cell_type": "code",
   "execution_count": null,
   "id": "afaffc7a",
   "metadata": {},
   "outputs": [],
   "source": []
  }
 ],
 "metadata": {
  "kernelspec": {
   "display_name": "Python 3 (ipykernel)",
   "language": "python",
   "name": "python3"
  },
  "language_info": {
   "codemirror_mode": {
    "name": "ipython",
    "version": 3
   },
   "file_extension": ".py",
   "mimetype": "text/x-python",
   "name": "python",
   "nbconvert_exporter": "python",
   "pygments_lexer": "ipython3",
   "version": "3.9.0"
  }
 },
 "nbformat": 4,
 "nbformat_minor": 5
}
